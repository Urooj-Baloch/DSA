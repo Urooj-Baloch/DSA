{
  "cells": [
    {
      "cell_type": "code",
      "source": [
        "from collections import deque\n",
        "grid = [\n",
        "    ['O', 'O', 'X', 'O', 'T'],\n",
        "    ['O', 'X', 'O', 'O', 'X'],\n",
        "    ['P', 'O', 'O', 'X', 'O'],\n",
        "    ['X', 'X', 'O', 'O', 'O'],\n",
        "    ['O', 'O', 'O', 'X', 'O']\n",
        "]\n",
        "directions = [(-1, 0), (1, 0), (0, -1), (0, 1)]\n",
        "def Start(grid):\n",
        "    n = len(grid)\n",
        "    for i in range(n):\n",
        "        for j in range(len(grid[0])):\n",
        "            if grid[i][j] == 'P':\n",
        "                return (i, j)\n",
        "    return None\n",
        "def BFS(grid):\n",
        "    start = Start(grid)\n",
        "    if not start:\n",
        "        return None\n",
        "    queue = deque([(start, [start])])\n",
        "    visited = set()\n",
        "    visited.add(start)\n",
        "    while queue:\n",
        "        (current, path) = queue.popleft()\n",
        "        row, col = current\n",
        "        if grid[row][col] == 'T':\n",
        "            return path\n",
        "        for dr, dc in directions:\n",
        "            r, c = row + dr, col + dc\n",
        "            if 0 <= r < len(grid) and 0 <= c < len(grid[0]) and (r, c) not in visited and grid[r][c] != 'X':\n",
        "                visited.add((r, c))\n",
        "                queue.append(((r, c), path + [(r, c)]))\n",
        "    return None\n",
        "def DFS(grid):\n",
        "    start = Start(grid)\n",
        "    if not start:\n",
        "        return None\n",
        "    stack = [(start, [start])]\n",
        "    visited = set()\n",
        "    visited.add(start)\n",
        "    while stack:\n",
        "        (current, path) = stack.pop()\n",
        "        row, col = current\n",
        "        if grid[row][col] == 'T':\n",
        "            return path\n",
        "        for dr, dc in directions:\n",
        "            r, c = row + dr, col + dc\n",
        "            if 0 <= r < len(grid) and 0 <= c < len(grid[0]) and (r, c) not in visited and grid[r][c] != 'X':\n",
        "                visited.add((r, c))\n",
        "                stack.append(((r, c), path + [(r, c)]))\n",
        "    return None\n",
        "def print_grid_with_path(grid, path):\n",
        "    for i in range(len(grid)):\n",
        "        for j in range(len(grid[0])):\n",
        "            if (i, j) in path:\n",
        "                print('*', end=' ')\n",
        "            else:\n",
        "                print(grid[i][j], end=' ')\n",
        "        print()\n",
        "bfs_path = BFS(grid)\n",
        "dfs_path = DFS(grid)\n",
        "print(\"BFS Path:\")\n",
        "if bfs_path:\n",
        "    print_grid_with_path(grid, bfs_path)\n",
        "else:\n",
        "    print(\"No path found.\")\n",
        "\n",
        "print(\"\\nDFS Path:\")\n",
        "if dfs_path:\n",
        "    print_grid_with_path(grid, dfs_path)\n",
        "else:\n",
        "    print(\"No path found.\")"
      ],
      "metadata": {
        "colab": {
          "base_uri": "https://localhost:8080/"
        },
        "id": "dLqIN8ZYQaTo",
        "outputId": "f46f6387-72c9-4ca5-eedd-605138699080"
      },
      "execution_count": 1,
      "outputs": [
        {
          "output_type": "stream",
          "name": "stdout",
          "text": [
            "BFS Path:\n",
            "O O X * * \n",
            "O X * * X \n",
            "* * * X O \n",
            "X X O O O \n",
            "O O O X O \n",
            "\n",
            "DFS Path:\n",
            "O O X * * \n",
            "O X * * X \n",
            "* * * X O \n",
            "X X O O O \n",
            "O O O X O \n"
          ]
        }
      ]
    },
    {
      "cell_type": "code",
      "source": [
        "import heapq\n",
        "def a_star(grid, start=(0, 0), goal=None):\n",
        "    rows, cols = len(grid), len(grid[0])\n",
        "    if goal is None:\n",
        "        goal = (rows - 1, cols - 1)\n",
        "    if grid[goal[0]][goal[1]] == '#':\n",
        "        return None, float('inf')\n",
        "    directions = [(-1, 0), (1, 0), (0, -1), (0, 1)]\n",
        "    def heuristic(x, y):\n",
        "        return abs(x - goal[0]) + abs(y - goal[1])\n",
        "    queue = [(heuristic(*start), 0, start)]\n",
        "    visited = set()\n",
        "    came_from = {}\n",
        "    g_cost = {start: 0}\n",
        "    while queue:\n",
        "        f, g, (x, y) = heapq.heappop(queue)\n",
        "        if (x, y) == goal:\n",
        "            path = []\n",
        "            while (x, y) in came_from:\n",
        "                path.append((x, y))\n",
        "                x, y = came_from[(x, y)]\n",
        "            path.append(start)\n",
        "            return path[::-1], g_cost[goal]\n",
        "        if (x, y) in visited:\n",
        "            continue\n",
        "        visited.add((x, y))\n",
        "        for dx, dy in directions:\n",
        "            nx, ny = x + dx, y + dy\n",
        "            if 0 <= nx < rows and 0 <= ny < cols and grid[nx][ny] != '#':\n",
        "                try:\n",
        "                    cost = int(grid[nx][ny])\n",
        "                except ValueError:\n",
        "                    continue\n",
        "                new_g = g_cost[(x, y)] + cost\n",
        "                if (nx, ny) not in g_cost or new_g < g_cost[(nx, ny)]:\n",
        "                    g_cost[(nx, ny)] = new_g\n",
        "                    new_f = new_g + heuristic(nx, ny)\n",
        "                    heapq.heappush(queue, (new_f, new_g, (nx, ny)))\n",
        "                    came_from[(nx, ny)] = (x, y)\n",
        "\n",
        "    return None, float('inf')\n",
        "grid = [\n",
        "    ['1', '2', '3', '#', '4'],\n",
        "    ['1', '#', '1', '2', '2'],\n",
        "    ['2', '3', '1', '#', '1'],\n",
        "    ['#', '#', '2', '1', '1'],\n",
        "    ['1', '1', '2', '2', '1']\n",
        "]\n",
        "path, cost = a_star(grid)\n",
        "if path:\n",
        "    print(\"Optimal Path:\", path)\n",
        "    print(\"Total Cost:\", cost)\n",
        "else:\n",
        "    print(\"No path found.\")\n"
      ],
      "metadata": {
        "colab": {
          "base_uri": "https://localhost:8080/"
        },
        "id": "mGMuc7XuQdlR",
        "outputId": "37bf5991-548f-48fd-9e71-83a312b5510f"
      },
      "execution_count": 2,
      "outputs": [
        {
          "output_type": "stream",
          "name": "stdout",
          "text": [
            "Optimal Path: [(0, 0), (0, 1), (0, 2), (1, 2), (2, 2), (3, 2), (3, 3), (3, 4), (4, 4)]\n",
            "Total Cost: 12\n"
          ]
        }
      ]
    },
    {
      "cell_type": "code",
      "source": [
        "import random\n",
        "\n",
        "def binary_to_decimal(binary_str):\n",
        "    return int(binary_str, 2)\n",
        "\n",
        "def fitness(x):\n",
        "    return 2 * (x ** 2) - 1\n",
        "\n",
        "def generate_population(size):\n",
        "    return [''.join(random.choice('01') for _ in range(6)) for _ in range(size)]\n",
        "\n",
        "def tournament_selection(population, k=3):\n",
        "    selected = random.sample(population, k)\n",
        "    return max(selected, key=lambda ind: fitness(binary_to_decimal(ind)))\n",
        "\n",
        "def uniform_crossover(parent1, parent2):\n",
        "    child = ''.join(random.choice([p1, p2]) for p1, p2 in zip(parent1, parent2))\n",
        "    return child\n",
        "\n",
        "def adaptive_mutation(individual, gen, max_gen):\n",
        "    mutation_rate = 0.1 * (1 - gen / max_gen)  # Adaptive probability\n",
        "    mutated = ''.join(bit if random.random() > mutation_rate else str(1 - int(bit)) for bit in individual)\n",
        "    return mutated\n",
        "\n",
        "def genetic_algorithm(pop_size=20, generations=50):\n",
        "    population = generate_population(pop_size)\n",
        "    best_solution = None\n",
        "    best_fitness = float('-inf')\n",
        "\n",
        "    for gen in range(generations):\n",
        "        new_population = []\n",
        "        for _ in range(pop_size // 2):\n",
        "            parent1 = tournament_selection(population)\n",
        "            parent2 = tournament_selection(population)\n",
        "            child1 = uniform_crossover(parent1, parent2)\n",
        "            child2 = uniform_crossover(parent1, parent2)\n",
        "            child1 = adaptive_mutation(child1, gen, generations)\n",
        "            child2 = adaptive_mutation(child2, gen, generations)\n",
        "            new_population.extend([child1, child2])\n",
        "\n",
        "        population = new_population\n",
        "\n",
        "        # Track the best individual\n",
        "        for individual in population:\n",
        "            x = binary_to_decimal(individual)\n",
        "            fit = fitness(x)\n",
        "            if fit > best_fitness:\n",
        "                best_fitness = fit\n",
        "                best_solution = individual\n",
        "\n",
        "    return best_solution, binary_to_decimal(best_solution), best_fitness\n",
        "\n",
        "best_individual, best_x, best_value = genetic_algorithm()\n",
        "print(f\"Best Individual: {best_individual} (x={best_x}) -> f(x)={best_value}\")\n"
      ],
      "metadata": {
        "colab": {
          "base_uri": "https://localhost:8080/"
        },
        "id": "JeRpyrh4RkZF",
        "outputId": "81f4e158-0462-4443-a55b-64488c87976c"
      },
      "execution_count": 3,
      "outputs": [
        {
          "output_type": "stream",
          "name": "stdout",
          "text": [
            "Best Individual: 111111 (x=63) -> f(x)=7937\n"
          ]
        }
      ]
    }
  ],
  "metadata": {
    "colab": {
      "provenance": []
    },
    "kernelspec": {
      "display_name": "Python 3",
      "name": "python3"
    },
    "language_info": {
      "name": "python"
    }
  },
  "nbformat": 4,
  "nbformat_minor": 0
}